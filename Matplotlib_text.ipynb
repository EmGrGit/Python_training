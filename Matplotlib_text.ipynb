{
  "nbformat": 4,
  "nbformat_minor": 0,
  "metadata": {
    "colab": {
      "name": "Matplotlib_text.ipynb",
      "provenance": [],
      "authorship_tag": "ABX9TyNEMq/SwOkQZi8FB+PozBq1",
      "include_colab_link": true
    },
    "kernelspec": {
      "name": "python3",
      "display_name": "Python 3"
    },
    "language_info": {
      "name": "python"
    }
  },
  "cells": [
    {
      "cell_type": "markdown",
      "metadata": {
        "id": "view-in-github",
        "colab_type": "text"
      },
      "source": [
        "<a href=\"https://colab.research.google.com/github/EmGrGit/Python_training/blob/main/Matplotlib_text.ipynb\" target=\"_parent\"><img src=\"https://colab.research.google.com/assets/colab-badge.svg\" alt=\"Open In Colab\"/></a>"
      ]
    },
    {
      "cell_type": "code",
      "execution_count": 1,
      "metadata": {
        "id": "4hEBl8D1tXbo"
      },
      "outputs": [],
      "source": [
        "import pandas as pd\n",
        "import matplotlib.pyplot as plt\n",
        "url = 'https://raw.githubusercontent.com/cloudacademy/data-visualization-with-python-using-matplotlib/master/data/gapminder.csv'\n",
        "df = pd.read_csv(url)\n",
        "df_china = df.query(\"Country=='China'\").reset_index(drop=True)"
      ]
    },
    {
      "cell_type": "code",
      "source": [
        "df_china.head()"
      ],
      "metadata": {
        "colab": {
          "base_uri": "https://localhost:8080/",
          "height": 337
        },
        "id": "a-o4n4dUt7AX",
        "outputId": "4008f132-9dc5-47c3-ec33-2a06f4b8011f"
      },
      "execution_count": 3,
      "outputs": [
        {
          "output_type": "execute_result",
          "data": {
            "text/plain": [
              "  Country  Year  fertility      life   population  child_mortality    gdp  \\\n",
              "0   China  1964      6.120  53.32072  696171650.0           130.77  713.0   \n",
              "1   China  1965      6.022  55.64680  710290299.0           115.43  772.0   \n",
              "2   China  1966      6.211  56.80320  727601056.0           120.80  826.0   \n",
              "3   China  1967      5.252  58.38112  747678772.0           126.42  719.0   \n",
              "4   China  1968      6.370  59.40520  769666505.0           132.30  669.0   \n",
              "\n",
              "                region  \n",
              "0  East Asia & Pacific  \n",
              "1  East Asia & Pacific  \n",
              "2  East Asia & Pacific  \n",
              "3  East Asia & Pacific  \n",
              "4  East Asia & Pacific  "
            ],
            "text/html": [
              "\n",
              "  <div id=\"df-011889f7-2491-4e3a-b997-c1eedc58fa79\">\n",
              "    <div class=\"colab-df-container\">\n",
              "      <div>\n",
              "<style scoped>\n",
              "    .dataframe tbody tr th:only-of-type {\n",
              "        vertical-align: middle;\n",
              "    }\n",
              "\n",
              "    .dataframe tbody tr th {\n",
              "        vertical-align: top;\n",
              "    }\n",
              "\n",
              "    .dataframe thead th {\n",
              "        text-align: right;\n",
              "    }\n",
              "</style>\n",
              "<table border=\"1\" class=\"dataframe\">\n",
              "  <thead>\n",
              "    <tr style=\"text-align: right;\">\n",
              "      <th></th>\n",
              "      <th>Country</th>\n",
              "      <th>Year</th>\n",
              "      <th>fertility</th>\n",
              "      <th>life</th>\n",
              "      <th>population</th>\n",
              "      <th>child_mortality</th>\n",
              "      <th>gdp</th>\n",
              "      <th>region</th>\n",
              "    </tr>\n",
              "  </thead>\n",
              "  <tbody>\n",
              "    <tr>\n",
              "      <th>0</th>\n",
              "      <td>China</td>\n",
              "      <td>1964</td>\n",
              "      <td>6.120</td>\n",
              "      <td>53.32072</td>\n",
              "      <td>696171650.0</td>\n",
              "      <td>130.77</td>\n",
              "      <td>713.0</td>\n",
              "      <td>East Asia &amp; Pacific</td>\n",
              "    </tr>\n",
              "    <tr>\n",
              "      <th>1</th>\n",
              "      <td>China</td>\n",
              "      <td>1965</td>\n",
              "      <td>6.022</td>\n",
              "      <td>55.64680</td>\n",
              "      <td>710290299.0</td>\n",
              "      <td>115.43</td>\n",
              "      <td>772.0</td>\n",
              "      <td>East Asia &amp; Pacific</td>\n",
              "    </tr>\n",
              "    <tr>\n",
              "      <th>2</th>\n",
              "      <td>China</td>\n",
              "      <td>1966</td>\n",
              "      <td>6.211</td>\n",
              "      <td>56.80320</td>\n",
              "      <td>727601056.0</td>\n",
              "      <td>120.80</td>\n",
              "      <td>826.0</td>\n",
              "      <td>East Asia &amp; Pacific</td>\n",
              "    </tr>\n",
              "    <tr>\n",
              "      <th>3</th>\n",
              "      <td>China</td>\n",
              "      <td>1967</td>\n",
              "      <td>5.252</td>\n",
              "      <td>58.38112</td>\n",
              "      <td>747678772.0</td>\n",
              "      <td>126.42</td>\n",
              "      <td>719.0</td>\n",
              "      <td>East Asia &amp; Pacific</td>\n",
              "    </tr>\n",
              "    <tr>\n",
              "      <th>4</th>\n",
              "      <td>China</td>\n",
              "      <td>1968</td>\n",
              "      <td>6.370</td>\n",
              "      <td>59.40520</td>\n",
              "      <td>769666505.0</td>\n",
              "      <td>132.30</td>\n",
              "      <td>669.0</td>\n",
              "      <td>East Asia &amp; Pacific</td>\n",
              "    </tr>\n",
              "  </tbody>\n",
              "</table>\n",
              "</div>\n",
              "      <button class=\"colab-df-convert\" onclick=\"convertToInteractive('df-011889f7-2491-4e3a-b997-c1eedc58fa79')\"\n",
              "              title=\"Convert this dataframe to an interactive table.\"\n",
              "              style=\"display:none;\">\n",
              "        \n",
              "  <svg xmlns=\"http://www.w3.org/2000/svg\" height=\"24px\"viewBox=\"0 0 24 24\"\n",
              "       width=\"24px\">\n",
              "    <path d=\"M0 0h24v24H0V0z\" fill=\"none\"/>\n",
              "    <path d=\"M18.56 5.44l.94 2.06.94-2.06 2.06-.94-2.06-.94-.94-2.06-.94 2.06-2.06.94zm-11 1L8.5 8.5l.94-2.06 2.06-.94-2.06-.94L8.5 2.5l-.94 2.06-2.06.94zm10 10l.94 2.06.94-2.06 2.06-.94-2.06-.94-.94-2.06-.94 2.06-2.06.94z\"/><path d=\"M17.41 7.96l-1.37-1.37c-.4-.4-.92-.59-1.43-.59-.52 0-1.04.2-1.43.59L10.3 9.45l-7.72 7.72c-.78.78-.78 2.05 0 2.83L4 21.41c.39.39.9.59 1.41.59.51 0 1.02-.2 1.41-.59l7.78-7.78 2.81-2.81c.8-.78.8-2.07 0-2.86zM5.41 20L4 18.59l7.72-7.72 1.47 1.35L5.41 20z\"/>\n",
              "  </svg>\n",
              "      </button>\n",
              "      \n",
              "  <style>\n",
              "    .colab-df-container {\n",
              "      display:flex;\n",
              "      flex-wrap:wrap;\n",
              "      gap: 12px;\n",
              "    }\n",
              "\n",
              "    .colab-df-convert {\n",
              "      background-color: #E8F0FE;\n",
              "      border: none;\n",
              "      border-radius: 50%;\n",
              "      cursor: pointer;\n",
              "      display: none;\n",
              "      fill: #1967D2;\n",
              "      height: 32px;\n",
              "      padding: 0 0 0 0;\n",
              "      width: 32px;\n",
              "    }\n",
              "\n",
              "    .colab-df-convert:hover {\n",
              "      background-color: #E2EBFA;\n",
              "      box-shadow: 0px 1px 2px rgba(60, 64, 67, 0.3), 0px 1px 3px 1px rgba(60, 64, 67, 0.15);\n",
              "      fill: #174EA6;\n",
              "    }\n",
              "\n",
              "    [theme=dark] .colab-df-convert {\n",
              "      background-color: #3B4455;\n",
              "      fill: #D2E3FC;\n",
              "    }\n",
              "\n",
              "    [theme=dark] .colab-df-convert:hover {\n",
              "      background-color: #434B5C;\n",
              "      box-shadow: 0px 1px 3px 1px rgba(0, 0, 0, 0.15);\n",
              "      filter: drop-shadow(0px 1px 2px rgba(0, 0, 0, 0.3));\n",
              "      fill: #FFFFFF;\n",
              "    }\n",
              "  </style>\n",
              "\n",
              "      <script>\n",
              "        const buttonEl =\n",
              "          document.querySelector('#df-011889f7-2491-4e3a-b997-c1eedc58fa79 button.colab-df-convert');\n",
              "        buttonEl.style.display =\n",
              "          google.colab.kernel.accessAllowed ? 'block' : 'none';\n",
              "\n",
              "        async function convertToInteractive(key) {\n",
              "          const element = document.querySelector('#df-011889f7-2491-4e3a-b997-c1eedc58fa79');\n",
              "          const dataTable =\n",
              "            await google.colab.kernel.invokeFunction('convertToInteractive',\n",
              "                                                     [key], {});\n",
              "          if (!dataTable) return;\n",
              "\n",
              "          const docLinkHtml = 'Like what you see? Visit the ' +\n",
              "            '<a target=\"_blank\" href=https://colab.research.google.com/notebooks/data_table.ipynb>data table notebook</a>'\n",
              "            + ' to learn more about interactive tables.';\n",
              "          element.innerHTML = '';\n",
              "          dataTable['output_type'] = 'display_data';\n",
              "          await google.colab.output.renderOutput(dataTable, element);\n",
              "          const docLink = document.createElement('div');\n",
              "          docLink.innerHTML = docLinkHtml;\n",
              "          element.appendChild(docLink);\n",
              "        }\n",
              "      </script>\n",
              "    </div>\n",
              "  </div>\n",
              "  "
            ]
          },
          "metadata": {},
          "execution_count": 3
        }
      ]
    },
    {
      "cell_type": "code",
      "source": [
        "def getting_series_plot(\n",
        "    x, y, axes,\n",
        "    xlabel, ylabel,\n",
        "    xticks_grid=0, color=None,\n",
        "    title=None, plot_label=None,\n",
        "    marker=None\n",
        "):\n",
        "    axes.plot(x,y, color=color, marker=marker, label=plot_label)\n",
        "    if xticks_grid>0:\n",
        "      axes.set_xticks(list(range(x.min(),x.max()+1, xticks_grid)))\n",
        "    axes.set_xlabel(xlabel)\n",
        "    axes.set_ylabel(ylabel)\n",
        "    if title:\n",
        "      axes.set_title(title)\n",
        "    if plot_label:\n",
        "      lines, labels = axes.get_legend_handles_labels()\n",
        "      axes.legend(lines, labels, loc='best')\n",
        "    return axes"
      ],
      "metadata": {
        "id": "CliSGK1Lt9qJ"
      },
      "execution_count": 13,
      "outputs": []
    },
    {
      "cell_type": "code",
      "source": [
        "fig, ax = plt.subplots(figsize=(12,10))\n",
        "axes = getting_series_plot(\n",
        "    x=df_china['Year'],\n",
        "    y=df_china['fertility'],\n",
        "    axes=ax,\n",
        "    xlabel='Year', ylabel='TFR',\n",
        "    xticks_grid=6,\n",
        "    color='r',\n",
        "    plot_label='China',\n",
        "    title='Evolution of the total fertility (TFR) in China'\n",
        ")\n",
        "axes.annotate(\n",
        "    \"Two-children policy\", xy=(1970, 5.5), xytext=(1964,2), \n",
        "    arrowprops={'arrowstyle':'->', 'color':'black', 'linestyle':'--'}\n",
        ")\n",
        "axes.annotate(\n",
        "    \"One-children policy\", xy=(1979, 2.8), xytext=(1982,4), \n",
        "    arrowprops={'arrowstyle':'->', 'color':'purple', 'linestyle':'--'}\n",
        ")\n",
        "ax.grid(True)\n",
        "plt.show()"
      ],
      "metadata": {
        "colab": {
          "base_uri": "https://localhost:8080/",
          "height": 583
        },
        "id": "ASK_ztdavot0",
        "outputId": "aa7aaa25-67a7-4686-b7ad-f3bfff3f55f0"
      },
      "execution_count": 22,
      "outputs": [
        {
          "output_type": "display_data",
          "data": {
            "text/plain": [
              "<Figure size 864x720 with 1 Axes>"
            ],
            "image/png": "[encoded data removed]"
          },
          "metadata": {
            "needs_background": "light"
          }
        }
      ]
    }
  ]
}