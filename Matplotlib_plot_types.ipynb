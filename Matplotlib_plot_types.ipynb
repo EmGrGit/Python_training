{
  "nbformat": 4,
  "nbformat_minor": 0,
  "metadata": {
    "colab": {
      "name": "Matplotlib-plot-types.ipynb",
      "provenance": [],
      "authorship_tag": "ABX9TyPlAMeNC5aF01QIe7dqtEq6",
      "include_colab_link": true
    },
    "kernelspec": {
      "name": "python3",
      "display_name": "Python 3"
    },
    "language_info": {
      "name": "python"
    }
  },
  "cells": [
    {
      "cell_type": "markdown",
      "metadata": {
        "id": "view-in-github",
        "colab_type": "text"
      },
      "source": [
        "<a href=\"https://colab.research.google.com/github/EmGrGit/Python_training/blob/main/Matplotlib_plot_types.ipynb\" target=\"_parent\"><img src=\"https://colab.research.google.com/assets/colab-badge.svg\" alt=\"Open In Colab\"/></a>"
      ]
    },
    {
      "cell_type": "code",
      "source": [
        "import pandas as pd\n",
        "import matplotlib.pyplot as plt"
      ],
      "metadata": {
        "id": "zwjyxprD07hu"
      },
      "execution_count": 13,
      "outputs": []
    },
    {
      "cell_type": "markdown",
      "source": [
        "Bar Charts"
      ],
      "metadata": {
        "id": "V9RX4W2P3qhM"
      }
    },
    {
      "cell_type": "code",
      "source": [
        "url = 'https://raw.githubusercontent.com/cloudacademy/data-visualization-with-python-using-matplotlib/master/data/fifa20_players_stats.csv'\n",
        "df = pd.read_csv(url, index_col=0, usecols=[x for x in range(74)])\n",
        "df.head()"
      ],
      "metadata": {
        "colab": {
          "base_uri": "https://localhost:8080/",
          "height": 491
        },
        "id": "TI4LrZyT3tId",
        "outputId": "24a00133-7ea3-4bfc-b599-0a0b9f0cba0a"
      },
      "execution_count": 15,
      "outputs": [
        {
          "output_type": "execute_result",
          "data": {
            "text/plain": [
              "                           Name    Country  Position  Age  Overall  Potential  \\\n",
              "0                  Lionel Messi  Argentina  RW,CF,ST   32       94         94   \n",
              "1  C. Ronaldo dos Santos Aveiro   Portugal     ST,LW   34       93         93   \n",
              "2    Neymar da Silva Santos Jr.     Brazil    LW,CAM   27       92         92   \n",
              "3                     Jan Oblak   Slovenia        GK   26       91         91   \n",
              "4               Kevin De Bruyne    Belgium    CAM,CM   28       91         91   \n",
              "\n",
              "                  Club      ID Height  Weight  ... SM     A/W     D/W  IR PAC  \\\n",
              "0         FC Barcelona  158023   5'7\"  159lbs  ...  4  Medium     Low   5  87   \n",
              "1             Juventus   20801   6'2\"  183lbs  ...  5    High     Low   5  90   \n",
              "2  Paris Saint-Germain  190871   5'9\"  150lbs  ...  5    High  Medium   5  91   \n",
              "3      Atlético Madrid  200389   6'2\"  192lbs  ...  1  Medium  Medium   3  87   \n",
              "4      Manchester City  192985  5'11\"  154lbs  ...  4    High    High   4  76   \n",
              "\n",
              "  SHO  PAS  DRI  DEF  PHY  \n",
              "0  92   92   96   39   66  \n",
              "1  93   82   89   35   78  \n",
              "2  85   87   95   32   58  \n",
              "3  92   78   89   52   90  \n",
              "4  86   92   86   61   78  \n",
              "\n",
              "[5 rows x 73 columns]"
            ],
            "text/html": [
              "\n",
              "  <div id=\"df-15f7d3ba-c3ba-4766-9c9e-8434409fcb43\">\n",
              "    <div class=\"colab-df-container\">\n",
              "      <div>\n",
              "<style scoped>\n",
              "    .dataframe tbody tr th:only-of-type {\n",
              "        vertical-align: middle;\n",
              "    }\n",
              "\n",
              "    .dataframe tbody tr th {\n",
              "        vertical-align: top;\n",
              "    }\n",
              "\n",
              "    .dataframe thead th {\n",
              "        text-align: right;\n",
              "    }\n",
              "</style>\n",
              "<table border=\"1\" class=\"dataframe\">\n",
              "  <thead>\n",
              "    <tr style=\"text-align: right;\">\n",
              "      <th></th>\n",
              "      <th>Name</th>\n",
              "      <th>Country</th>\n",
              "      <th>Position</th>\n",
              "      <th>Age</th>\n",
              "      <th>Overall</th>\n",
              "      <th>Potential</th>\n",
              "      <th>Club</th>\n",
              "      <th>ID</th>\n",
              "      <th>Height</th>\n",
              "      <th>Weight</th>\n",
              "      <th>...</th>\n",
              "      <th>SM</th>\n",
              "      <th>A/W</th>\n",
              "      <th>D/W</th>\n",
              "      <th>IR</th>\n",
              "      <th>PAC</th>\n",
              "      <th>SHO</th>\n",
              "      <th>PAS</th>\n",
              "      <th>DRI</th>\n",
              "      <th>DEF</th>\n",
              "      <th>PHY</th>\n",
              "    </tr>\n",
              "  </thead>\n",
              "  <tbody>\n",
              "    <tr>\n",
              "      <th>0</th>\n",
              "      <td>Lionel Messi</td>\n",
              "      <td>Argentina</td>\n",
              "      <td>RW,CF,ST</td>\n",
              "      <td>32</td>\n",
              "      <td>94</td>\n",
              "      <td>94</td>\n",
              "      <td>FC Barcelona</td>\n",
              "      <td>158023</td>\n",
              "      <td>5'7\"</td>\n",
              "      <td>159lbs</td>\n",
              "      <td>...</td>\n",
              "      <td>4</td>\n",
              "      <td>Medium</td>\n",
              "      <td>Low</td>\n",
              "      <td>5</td>\n",
              "      <td>87</td>\n",
              "      <td>92</td>\n",
              "      <td>92</td>\n",
              "      <td>96</td>\n",
              "      <td>39</td>\n",
              "      <td>66</td>\n",
              "    </tr>\n",
              "    <tr>\n",
              "      <th>1</th>\n",
              "      <td>C. Ronaldo dos Santos Aveiro</td>\n",
              "      <td>Portugal</td>\n",
              "      <td>ST,LW</td>\n",
              "      <td>34</td>\n",
              "      <td>93</td>\n",
              "      <td>93</td>\n",
              "      <td>Juventus</td>\n",
              "      <td>20801</td>\n",
              "      <td>6'2\"</td>\n",
              "      <td>183lbs</td>\n",
              "      <td>...</td>\n",
              "      <td>5</td>\n",
              "      <td>High</td>\n",
              "      <td>Low</td>\n",
              "      <td>5</td>\n",
              "      <td>90</td>\n",
              "      <td>93</td>\n",
              "      <td>82</td>\n",
              "      <td>89</td>\n",
              "      <td>35</td>\n",
              "      <td>78</td>\n",
              "    </tr>\n",
              "    <tr>\n",
              "      <th>2</th>\n",
              "      <td>Neymar da Silva Santos Jr.</td>\n",
              "      <td>Brazil</td>\n",
              "      <td>LW,CAM</td>\n",
              "      <td>27</td>\n",
              "      <td>92</td>\n",
              "      <td>92</td>\n",
              "      <td>Paris Saint-Germain</td>\n",
              "      <td>190871</td>\n",
              "      <td>5'9\"</td>\n",
              "      <td>150lbs</td>\n",
              "      <td>...</td>\n",
              "      <td>5</td>\n",
              "      <td>High</td>\n",
              "      <td>Medium</td>\n",
              "      <td>5</td>\n",
              "      <td>91</td>\n",
              "      <td>85</td>\n",
              "      <td>87</td>\n",
              "      <td>95</td>\n",
              "      <td>32</td>\n",
              "      <td>58</td>\n",
              "    </tr>\n",
              "    <tr>\n",
              "      <th>3</th>\n",
              "      <td>Jan Oblak</td>\n",
              "      <td>Slovenia</td>\n",
              "      <td>GK</td>\n",
              "      <td>26</td>\n",
              "      <td>91</td>\n",
              "      <td>91</td>\n",
              "      <td>Atlético Madrid</td>\n",
              "      <td>200389</td>\n",
              "      <td>6'2\"</td>\n",
              "      <td>192lbs</td>\n",
              "      <td>...</td>\n",
              "      <td>1</td>\n",
              "      <td>Medium</td>\n",
              "      <td>Medium</td>\n",
              "      <td>3</td>\n",
              "      <td>87</td>\n",
              "      <td>92</td>\n",
              "      <td>78</td>\n",
              "      <td>89</td>\n",
              "      <td>52</td>\n",
              "      <td>90</td>\n",
              "    </tr>\n",
              "    <tr>\n",
              "      <th>4</th>\n",
              "      <td>Kevin De Bruyne</td>\n",
              "      <td>Belgium</td>\n",
              "      <td>CAM,CM</td>\n",
              "      <td>28</td>\n",
              "      <td>91</td>\n",
              "      <td>91</td>\n",
              "      <td>Manchester City</td>\n",
              "      <td>192985</td>\n",
              "      <td>5'11\"</td>\n",
              "      <td>154lbs</td>\n",
              "      <td>...</td>\n",
              "      <td>4</td>\n",
              "      <td>High</td>\n",
              "      <td>High</td>\n",
              "      <td>4</td>\n",
              "      <td>76</td>\n",
              "      <td>86</td>\n",
              "      <td>92</td>\n",
              "      <td>86</td>\n",
              "      <td>61</td>\n",
              "      <td>78</td>\n",
              "    </tr>\n",
              "  </tbody>\n",
              "</table>\n",
              "<p>5 rows × 73 columns</p>\n",
              "</div>\n",
              "      <button class=\"colab-df-convert\" onclick=\"convertToInteractive('df-15f7d3ba-c3ba-4766-9c9e-8434409fcb43')\"\n",
              "              title=\"Convert this dataframe to an interactive table.\"\n",
              "              style=\"display:none;\">\n",
              "        \n",
              "  <svg xmlns=\"http://www.w3.org/2000/svg\" height=\"24px\"viewBox=\"0 0 24 24\"\n",
              "       width=\"24px\">\n",
              "    <path d=\"M0 0h24v24H0V0z\" fill=\"none\"/>\n",
              "    <path d=\"M18.56 5.44l.94 2.06.94-2.06 2.06-.94-2.06-.94-.94-2.06-.94 2.06-2.06.94zm-11 1L8.5 8.5l.94-2.06 2.06-.94-2.06-.94L8.5 2.5l-.94 2.06-2.06.94zm10 10l.94 2.06.94-2.06 2.06-.94-2.06-.94-.94-2.06-.94 2.06-2.06.94z\"/><path d=\"M17.41 7.96l-1.37-1.37c-.4-.4-.92-.59-1.43-.59-.52 0-1.04.2-1.43.59L10.3 9.45l-7.72 7.72c-.78.78-.78 2.05 0 2.83L4 21.41c.39.39.9.59 1.41.59.51 0 1.02-.2 1.41-.59l7.78-7.78 2.81-2.81c.8-.78.8-2.07 0-2.86zM5.41 20L4 18.59l7.72-7.72 1.47 1.35L5.41 20z\"/>\n",
              "  </svg>\n",
              "      </button>\n",
              "      \n",
              "  <style>\n",
              "    .colab-df-container {\n",
              "      display:flex;\n",
              "      flex-wrap:wrap;\n",
              "      gap: 12px;\n",
              "    }\n",
              "\n",
              "    .colab-df-convert {\n",
              "      background-color: #E8F0FE;\n",
              "      border: none;\n",
              "      border-radius: 50%;\n",
              "      cursor: pointer;\n",
              "      display: none;\n",
              "      fill: #1967D2;\n",
              "      height: 32px;\n",
              "      padding: 0 0 0 0;\n",
              "      width: 32px;\n",
              "    }\n",
              "\n",
              "    .colab-df-convert:hover {\n",
              "      background-color: #E2EBFA;\n",
              "      box-shadow: 0px 1px 2px rgba(60, 64, 67, 0.3), 0px 1px 3px 1px rgba(60, 64, 67, 0.15);\n",
              "      fill: #174EA6;\n",
              "    }\n",
              "\n",
              "    [theme=dark] .colab-df-convert {\n",
              "      background-color: #3B4455;\n",
              "      fill: #D2E3FC;\n",
              "    }\n",
              "\n",
              "    [theme=dark] .colab-df-convert:hover {\n",
              "      background-color: #434B5C;\n",
              "      box-shadow: 0px 1px 3px 1px rgba(0, 0, 0, 0.15);\n",
              "      filter: drop-shadow(0px 1px 2px rgba(0, 0, 0, 0.3));\n",
              "      fill: #FFFFFF;\n",
              "    }\n",
              "  </style>\n",
              "\n",
              "      <script>\n",
              "        const buttonEl =\n",
              "          document.querySelector('#df-15f7d3ba-c3ba-4766-9c9e-8434409fcb43 button.colab-df-convert');\n",
              "        buttonEl.style.display =\n",
              "          google.colab.kernel.accessAllowed ? 'block' : 'none';\n",
              "\n",
              "        async function convertToInteractive(key) {\n",
              "          const element = document.querySelector('#df-15f7d3ba-c3ba-4766-9c9e-8434409fcb43');\n",
              "          const dataTable =\n",
              "            await google.colab.kernel.invokeFunction('convertToInteractive',\n",
              "                                                     [key], {});\n",
              "          if (!dataTable) return;\n",
              "\n",
              "          const docLinkHtml = 'Like what you see? Visit the ' +\n",
              "            '<a target=\"_blank\" href=https://colab.research.google.com/notebooks/data_table.ipynb>data table notebook</a>'\n",
              "            + ' to learn more about interactive tables.';\n",
              "          element.innerHTML = '';\n",
              "          dataTable['output_type'] = 'display_data';\n",
              "          await google.colab.output.renderOutput(dataTable, element);\n",
              "          const docLink = document.createElement('div');\n",
              "          docLink.innerHTML = docLinkHtml;\n",
              "          element.appendChild(docLink);\n",
              "        }\n",
              "      </script>\n",
              "    </div>\n",
              "  </div>\n",
              "  "
            ]
          },
          "metadata": {},
          "execution_count": 15
        }
      ]
    },
    {
      "cell_type": "code",
      "source": [
        "df.shape"
      ],
      "metadata": {
        "colab": {
          "base_uri": "https://localhost:8080/"
        },
        "id": "rjminRSL4UbG",
        "outputId": "0f76b873-dc52-4b4a-a9ed-fd866e1ecd37"
      },
      "execution_count": 17,
      "outputs": [
        {
          "output_type": "execute_result",
          "data": {
            "text/plain": [
              "(18547, 73)"
            ]
          },
          "metadata": {},
          "execution_count": 17
        }
      ]
    },
    {
      "cell_type": "code",
      "source": [
        "count_countries = df[\n",
        "      ['Country', 'Name']\n",
        "].groupby('Country').count().rename(\n",
        "    columns={'Name':'Number of Players'}\n",
        ")"
      ],
      "metadata": {
        "id": "r6siwqFu4WnK"
      },
      "execution_count": 18,
      "outputs": []
    },
    {
      "cell_type": "code",
      "source": [
        "count_countries_sorted = count_countries.sort_values(by='Number of Players', ascending=False)"
      ],
      "metadata": {
        "id": "5q4Bvn7_5uHw"
      },
      "execution_count": 27,
      "outputs": []
    },
    {
      "cell_type": "code",
      "source": [
        "top_10 = count_countries_sorted.head(10)"
      ],
      "metadata": {
        "id": "etYyvvrg45Jn"
      },
      "execution_count": 29,
      "outputs": []
    },
    {
      "cell_type": "code",
      "source": [
        "fig, ax = plt.subplots(figsize=(10,8))\n",
        "ax.bar(top_10.index,top_10['Number of Players'],color='black')\n",
        "ax.set_ylabel('Number of Players for each Country')\n",
        "plt.show()"
      ],
      "metadata": {
        "colab": {
          "base_uri": "https://localhost:8080/",
          "height": 483
        },
        "id": "Fvy_Z3HD48Rz",
        "outputId": "570ff24e-2189-4a08-8ea9-91c30d63f70d"
      },
      "execution_count": 30,
      "outputs": [
        {
          "output_type": "display_data",
          "data": {
            "text/plain": [
              "<Figure size 720x576 with 1 Axes>"
            ],
            "image/png": "[encoded data removed]"
          },
          "metadata": {
            "needs_background": "light"
          }
        }
      ]
    },
    {
      "cell_type": "code",
      "source": [
        "top_50 = count_countries_sorted.head(50)"
      ],
      "metadata": {
        "id": "o1OMh9KW6wxH"
      },
      "execution_count": 34,
      "outputs": []
    },
    {
      "cell_type": "code",
      "source": [
        "fig, ax = plt.subplots(figsize=(10,8))\n",
        "ax.bar(top_50.index,top_50['Number of Players'],color='black')\n",
        "ax.set_ylabel('Number of Players for each Country')\n",
        "ax.set_xticklabels(top_50.index, rotation=90)\n",
        "plt.show()"
      ],
      "metadata": {
        "colab": {
          "base_uri": "https://localhost:8080/",
          "height": 572
        },
        "id": "inGB8wBu6zfL",
        "outputId": "5e005c13-6c96-44e6-fc48-598ac84390a8"
      },
      "execution_count": 35,
      "outputs": [
        {
          "output_type": "display_data",
          "data": {
            "text/plain": [
              "<Figure size 720x576 with 1 Axes>"
            ],
            "image/png": "[encoded data removed]"
          },
          "metadata": {
            "needs_background": "light"
          }
        }
      ]
    },
    {
      "cell_type": "markdown",
      "source": [
        "Histograms"
      ],
      "metadata": {
        "id": "MTvhDXFx7XXL"
      }
    },
    {
      "cell_type": "code",
      "source": [
        "def normalised_data(df):\n",
        "  normalised_df = (df['Overall']-df['Overall'].mean())/df['Overall'].std()\n",
        "  normalised_df = normalised_df[-normalised_df.isna()].to_frame()\n",
        "  return normalised_df"
      ],
      "metadata": {
        "id": "-bjjRUrw7ZUf"
      },
      "execution_count": 39,
      "outputs": []
    },
    {
      "cell_type": "code",
      "source": [
        "normalised_df = normalised_data(df)"
      ],
      "metadata": {
        "id": "SBlk7n9f8Wbd"
      },
      "execution_count": 40,
      "outputs": []
    },
    {
      "cell_type": "code",
      "source": [
        "fig, ax = plt.subplots(figsize=(10,8))\n",
        "ax.hist(normalised_df['Overall'], label='Overall Skill', bins=70)\n",
        "ax.set_xlabel('Normalised Overall Skill')\n",
        "ax.set_ylabel('Number of Observations')\n",
        "plt.show()"
      ],
      "metadata": {
        "colab": {
          "base_uri": "https://localhost:8080/",
          "height": 497
        },
        "id": "LfJdGWZB8gd0",
        "outputId": "1419b9d9-e8c6-4c6f-d265-f389e78cf8fc"
      },
      "execution_count": 43,
      "outputs": [
        {
          "output_type": "display_data",
          "data": {
            "text/plain": [
              "<Figure size 720x576 with 1 Axes>"
            ],
            "image/png": "[encoded data removed]"
          },
          "metadata": {
            "needs_background": "light"
          }
        }
      ]
    },
    {
      "cell_type": "code",
      "source": [
        "england = df.query(\"Country=='England'\").reset_index(drop=True)\n",
        "italy = df.query(\"Country=='Italy'\").reset_index(drop=True)\n",
        "spain = df.query(\"Country=='Spain'\").reset_index(drop=True)"
      ],
      "metadata": {
        "id": "l9Wc_7ic9Y9N"
      },
      "execution_count": 46,
      "outputs": []
    },
    {
      "cell_type": "code",
      "source": [
        "england_norm = normalised_data(england)\n",
        "italy_norm = normalised_data(italy)\n",
        "spain_norm = normalised_data(spain)"
      ],
      "metadata": {
        "id": "2ukJ9zrz-QUI"
      },
      "execution_count": 48,
      "outputs": []
    },
    {
      "cell_type": "code",
      "source": [
        "fig, ax = plt.subplots(nrows=3, ncols=1, figsize=(10,8))\n",
        "ax[0].hist(england_norm['Overall'], label='England', bins=70)\n",
        "ax[1].hist(italy_norm['Overall'], label='Italy', bins=70)\n",
        "ax[2].hist(spain_norm['Overall'], label='Spain', bins=70)\n",
        "ax[2].set_xlabel('Normalised Overall Skill')\n",
        "ax[1].set_ylabel('Number of Observations')\n",
        "#ax.legend()\n",
        "plt.show()"
      ],
      "metadata": {
        "colab": {
          "base_uri": "https://localhost:8080/",
          "height": 497
        },
        "id": "gnQZLDDX-fUi",
        "outputId": "3bbfb1f9-85b5-4b40-a2a6-aa08f045f020"
      },
      "execution_count": 52,
      "outputs": [
        {
          "output_type": "display_data",
          "data": {
            "text/plain": [
              "<Figure size 720x576 with 3 Axes>"
            ],
            "image/png": "[encoded data removed]"
          },
          "metadata": {
            "needs_background": "light"
          }
        }
      ]
    },
    {
      "cell_type": "code",
      "source": [
        "fig, ax = plt.subplots(nrows=1, ncols=1, figsize=(10,8))\n",
        "ax.hist(england_norm['Overall'], label='England', bins=70, histtype='step')\n",
        "ax.hist(italy_norm['Overall'], label='Italy', bins=70, histtype='step')\n",
        "ax.hist(spain_norm['Overall'], label='Spain', bins=70, histtype='step')\n",
        "ax.set_xlabel('Normalised Overall Skill')\n",
        "ax.set_ylabel('Number of Observations')\n",
        "ax.legend()\n",
        "plt.show()"
      ],
      "metadata": {
        "colab": {
          "base_uri": "https://localhost:8080/",
          "height": 497
        },
        "id": "VGsUXZ2M_jFH",
        "outputId": "da6448dd-5e0b-4086-cb92-ea251c2021e2"
      },
      "execution_count": 53,
      "outputs": [
        {
          "output_type": "display_data",
          "data": {
            "text/plain": [
              "<Figure size 720x576 with 1 Axes>"
            ],
            "image/png": "[encoded data removed]"
          },
          "metadata": {
            "needs_background": "light"
          }
        }
      ]
    }
  ]
}